{
 "cells": [
  {
   "cell_type": "code",
   "execution_count": 1,
   "metadata": {},
   "outputs": [
    {
     "name": "stdout",
     "output_type": "stream",
     "text": [
      "n1:10\n",
      "n2:20\n",
      "1 for sum\n",
      "2 for sub\n",
      "3 for multiplication\n",
      "4 for division and\n",
      "0 for exit:\n",
      "enter your choice: 1\n",
      "30\n",
      "do you wan to continue press 1\n",
      "0\n"
     ]
    }
   ],
   "source": [
    "calculate = True\n",
    "while calculate:\n",
    "    n1 = int(input(\"n1:\"))\n",
    "    n2 = int(input(\"n2:\"))\n",
    "    print(\"1 for sum\\n2 for sub\\n3 for multiplication\\n4 for division\")\n",
    "    choice = int(input(\"enter your choice: \"))\n",
    "    if choice == 1:\n",
    "        print(n1+n2)\n",
    "    elif choice == 2:\n",
    "        print(n1-n2)\n",
    "    elif choice == 3:\n",
    "        print(n1*n2)\n",
    "    elif choice == 4:\n",
    "        print(n1/n2)\n",
    "    elif choice == 0:\n",
    "        calculate = False\n",
    "    print(\"do you want to continue press 1 or any number to exit:\")\n",
    "    ch = int(input())\n",
    "    if ch == 1:\n",
    "        continue\n",
    "    else:\n",
    "        calculate = False\n",
    "        break"
   ]
  },
  {
   "cell_type": "code",
   "execution_count": null,
   "metadata": {},
   "outputs": [],
   "source": []
  }
 ],
 "metadata": {
  "kernelspec": {
   "display_name": "Python 3",
   "language": "python",
   "name": "python3"
  },
  "language_info": {
   "codemirror_mode": {
    "name": "ipython",
    "version": 3
   },
   "file_extension": ".py",
   "mimetype": "text/x-python",
   "name": "python",
   "nbconvert_exporter": "python",
   "pygments_lexer": "ipython3",
   "version": "3.7.6"
  }
 },
 "nbformat": 4,
 "nbformat_minor": 4
}
